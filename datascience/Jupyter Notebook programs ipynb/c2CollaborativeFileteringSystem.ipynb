{
 "cells": [
  {
   "cell_type": "code",
   "execution_count": 2,
   "metadata": {},
   "outputs": [],
   "source": [
    "#!/usr/bin/env python\n",
    "\n",
    "# Collabrative Filtering data set taken from Collective Intelligence book.\n",
    "\n",
    "dataset={\n",
    " 'Lisa Rose': {\n",
    " 'Lady in the Water': 2.5,\n",
    " 'Snakes on a Plane': 3.5,\n",
    " 'Just My Luck': 3.0,\n",
    " 'Superman Returns': 3.5,\n",
    " 'You, Me and Dupree': 2.5,\n",
    " 'The Night Listener': 3.0},\n",
    " 'Gene Seymour': {'Lady in the Water': 3.0,\n",
    " 'Snakes on a Plane': 3.5,\n",
    " 'Just My Luck': 1.5,\n",
    " 'Superman Returns': 5.0,\n",
    " 'The Night Listener': 3.0,\n",
    " 'You, Me and Dupree': 3.5},\n",
    "\n",
    " 'Michael Phillips': {'Lady in the Water': 2.5,\n",
    " 'Snakes on a Plane': 3.0,\n",
    " 'Superman Returns': 3.5,\n",
    " 'The Night Listener': 4.0},\n",
    " 'Claudia Puig': {'Snakes on a Plane': 3.5,\n",
    " 'Just My Luck': 3.0,\n",
    " 'The Night Listener': 4.5,\n",
    " 'Superman Returns': 4.0,\n",
    " 'You, Me and Dupree': 2.5},\n",
    "\n",
    " 'Mick LaSalle': {'Lady in the Water': 3.0,\n",
    " 'Snakes on a Plane': 4.0,\n",
    " 'Just My Luck': 2.0,\n",
    " 'Superman Returns': 3.0,\n",
    " 'The Night Listener': 3.0,\n",
    " 'You, Me and Dupree': 2.0},\n",
    "\n",
    " 'Jack Matthews': {'Lady in the Water': 3.0,\n",
    " 'Snakes on a Plane': 4.0,\n",
    " 'The Night Listener': 3.0,\n",
    " 'Superman Returns': 5.0,\n",
    " 'You, Me and Dupree': 3.5},\n",
    " \n",
    " 'Toby': {'Snakes on a Plane':4.5,\n",
    " 'You, Me and Dupree':1.0,\n",
    " 'Superman Returns':4.0}}"
   ]
  },
  {
   "cell_type": "code",
   "execution_count": 4,
   "metadata": {},
   "outputs": [
    {
     "name": "stdout",
     "output_type": "stream",
     "text": [
      "Lisa Rose rating on Lady in the water: 2.5n\n",
      "Michael Phillips rating on Lady in the water: 2.5n\n",
      "**************Jack Matthews ratings**************\n",
      "{'Lady in the Water': 3.0, 'Snakes on a Plane': 4.0, 'You, Me and Dupree': 3.5, 'Superman Returns': 5.0, 'The Night Listener': 3.0}\n"
     ]
    }
   ],
   "source": [
    "#!/usr/bin/env python\n",
    "# Implementation of collaborative filtering recommendation engine\n",
    "\n",
    "print \"Lisa Rose rating on Lady in the water: {}n\".format(dataset['Lisa Rose']['Lady in the Water'])\n",
    "print \"Michael Phillips rating on Lady in the water: {}n\".format(dataset['Michael Phillips']['Lady in the Water'])\n",
    "\n",
    "print '**************Jack Matthews ratings**************'\n",
    "print dataset['Jack Matthews']"
   ]
  },
  {
   "cell_type": "code",
   "execution_count": 7,
   "metadata": {},
   "outputs": [],
   "source": [
    "#!/usr/bin/env python\n",
    "# Implementation of collaborative filtering recommendation engine\n",
    "\n",
    "from math import sqrt\n",
    "\n",
    "def similarity_score(person1,person2):\n",
    "\t\n",
    "\t# Returns ratio Euclidean distance score of person1 and person2 \n",
    "\n",
    "\tboth_viewed = {}\t\t# To get both rated items by person1 and person2\n",
    "\n",
    "\tfor item in dataset[person1]:\n",
    "\t\tif item in dataset[person2]:\n",
    "\t\t\tboth_viewed[item] = 1\n",
    "\n",
    "\t\t# Conditions to check they both have an common rating items\t\n",
    "\t\tif len(both_viewed) == 0:\n",
    "\t\t\treturn 0\n",
    "\n",
    "\t\t# Finding Euclidean distance \n",
    "\t\tsum_of_eclidean_distance = []\t\n",
    "\n",
    "\t\tfor item in dataset[person1]:\n",
    "\t\t\tif item in dataset[person2]:\n",
    "\t\t\t\tsum_of_eclidean_distance.append(pow(dataset[person1][item] - dataset[person2][item],2))\n",
    "\t\tsum_of_eclidean_distance = sum(sum_of_eclidean_distance)\n",
    "\n",
    "\t\treturn 1/(1+sqrt(sum_of_eclidean_distance))"
   ]
  },
  {
   "cell_type": "code",
   "execution_count": 8,
   "metadata": {},
   "outputs": [
    {
     "name": "stdout",
     "output_type": "stream",
     "text": [
      "0.340542426583\n"
     ]
    }
   ],
   "source": [
    "print similarity_score('Lisa Rose','Jack Matthews')"
   ]
  },
  {
   "cell_type": "code",
   "execution_count": 10,
   "metadata": {},
   "outputs": [
    {
     "name": "stdout",
     "output_type": "stream",
     "text": [
      "0.396059017191\n"
     ]
    }
   ],
   "source": [
    "# Implementation of collaborative filtering recommendataion engine\n",
    "\n",
    "from math import sqrt\n",
    "\n",
    "def similarity_score(person1,person2):\n",
    "\t\n",
    "\t# Returns ratio Euclidean distance score of person1 and person2 \n",
    "\n",
    "\tboth_viewed = {}\t\t# To get both rated items by person1 and person2\n",
    "\n",
    "\tfor item in dataset[person1]:\n",
    "\t\tif item in dataset[person2]:\n",
    "\t\t\tboth_viewed[item] = 1\n",
    "\n",
    "\t\t# Conditions to check they both have an common rating items\t\n",
    "\t\tif len(both_viewed) == 0:\n",
    "\t\t\treturn 0\n",
    "\n",
    "\t\t# Finding Euclidean distance \n",
    "\t\tsum_of_eclidean_distance = []\t\n",
    "\n",
    "\t\tfor item in dataset[person1]:\n",
    "\t\t\tif item in dataset[person2]:\n",
    "\t\t\t\tsum_of_eclidean_distance.append(pow(dataset[person1][item] - dataset[person2][item],2))\n",
    "\t\tsum_of_eclidean_distance = sum(sum_of_eclidean_distance)\n",
    "\n",
    "\t\treturn 1/(1+sqrt(sum_of_eclidean_distance))\n",
    "\n",
    "def pearson_correlation(person1,person2):\n",
    "\n",
    "\t# To get both rated items\n",
    "\tboth_rated = {}\n",
    "\tfor item in dataset[person1]:\n",
    "\t\tif item in dataset[person2]:\n",
    "\t\t\tboth_rated[item] = 1\n",
    "\n",
    "\tnumber_of_ratings = len(both_rated)\t\t\n",
    "\t\n",
    "\t# Checking for number of ratings in common\n",
    "\tif number_of_ratings == 0:\n",
    "\t\treturn 0\n",
    "\n",
    "\t# Add up all the preferences of each user\n",
    "\tperson1_preferences_sum = sum([dataset[person1][item] for item in both_rated])\n",
    "\tperson2_preferences_sum = sum([dataset[person2][item] for item in both_rated])\n",
    "\n",
    "\t# Sum up the squares of preferences of each user\n",
    "\tperson1_square_preferences_sum = sum([pow(dataset[person1][item],2) for item in both_rated])\n",
    "\tperson2_square_preferences_sum = sum([pow(dataset[person2][item],2) for item in both_rated])\n",
    "\n",
    "\t# Sum up the product value of both preferences for each item\n",
    "\tproduct_sum_of_both_users = sum([dataset[person1][item] * dataset[person2][item] for item in both_rated])\n",
    "\n",
    "\t# Calculate the pearson score\n",
    "\tnumerator_value = product_sum_of_both_users - (person1_preferences_sum*person2_preferences_sum/number_of_ratings)\n",
    "\tdenominator_value = sqrt((person1_square_preferences_sum - pow(person1_preferences_sum,2)/number_of_ratings) * (person2_square_preferences_sum -pow(person2_preferences_sum,2)/number_of_ratings))\n",
    "\tif denominator_value == 0:\n",
    "\t\treturn 0\n",
    "\telse:\n",
    "\t\tr = numerator_value/denominator_value\n",
    "\t\treturn r\n",
    "\n",
    "print pearson_correlation('Lisa Rose','Gene Seymour')"
   ]
  },
  {
   "cell_type": "code",
   "execution_count": 11,
   "metadata": {},
   "outputs": [
    {
     "name": "stdout",
     "output_type": "stream",
     "text": [
      "[(0.9912407071619299, 'Toby'), (0.7470178808339965, 'Jack Matthews'), (0.5940885257860044, 'Mick LaSalle')]\n"
     ]
    }
   ],
   "source": [
    "def most_similar_users(person,number_of_users):\n",
    "\t# returns the number_of_users (similar persons) for a given specific person.\n",
    "\tscores = [(pearson_correlation(person,other_person),other_person) for other_person in dataset if  other_person != person ]\n",
    "\t\n",
    "\t# Sort the similar persons so that highest scores person will appear at the first\n",
    "\tscores.sort()\n",
    "\tscores.reverse()\n",
    "\treturn scores[0:number_of_users]\n",
    "\n",
    "print most_similar_users('Lisa Rose',3)"
   ]
  },
  {
   "cell_type": "code",
   "execution_count": 15,
   "metadata": {},
   "outputs": [
    {
     "name": "stdout",
     "output_type": "stream",
     "text": [
      "Recommendations for Toby\n",
      "['The Night Listener', 'Lady in the Water', 'Just My Luck']\n"
     ]
    }
   ],
   "source": [
    "def user_reommendations(person):\n",
    "\n",
    "\t# Gets recommendations for a person by using a weighted average of every other user's rankings\n",
    "\ttotals = {}\n",
    "\tsimSums = {}\n",
    "\trankings_list =[]\n",
    "\tfor other in dataset:\n",
    "\t\t# don't compare me to myself\n",
    "\t\tif other == person:\n",
    "\t\t\tcontinue\n",
    "\t\tsim = pearson_correlation(person,other)\n",
    "\n",
    "\t\t# ignore scores of zero or lower\n",
    "\t\tif sim <=0: \n",
    "\t\t\tcontinue\n",
    "\t\tfor item in dataset[other]:\n",
    "\n",
    "\t\t\t# only score movies i haven't seen yet\n",
    "\t\t\tif item not in dataset[person] or dataset[person][item] == 0:\n",
    "\n",
    "\t\t\t# Similrity * score\n",
    "\t\t\t\ttotals.setdefault(item,0)\n",
    "\t\t\t\ttotals[item] += dataset[other][item]* sim\n",
    "\t\t\t\t# sum of similarities\n",
    "\t\t\t\tsimSums.setdefault(item,0)\n",
    "\t\t\t\tsimSums[item]+= sim\n",
    "\n",
    "\t\t# Create the normalized list\n",
    "\n",
    "\trankings = [(total/simSums[item],item) for item,total in totals.items()]\n",
    "\trankings.sort()\n",
    "\trankings.reverse()\n",
    "\t# returns the recommended items\n",
    "\trecommendataions_list = [recommend_item for score,recommend_item in rankings]\n",
    "\treturn recommendataions_list\n",
    "\n",
    "print \"Recommendations for Toby\"\n",
    "print user_reommendations('Toby')"
   ]
  }
 ],
 "metadata": {
  "kernelspec": {
   "display_name": "Python 2",
   "language": "python",
   "name": "python2"
  },
  "language_info": {
   "codemirror_mode": {
    "name": "ipython",
    "version": 2
   },
   "file_extension": ".py",
   "mimetype": "text/x-python",
   "name": "python",
   "nbconvert_exporter": "python",
   "pygments_lexer": "ipython2",
   "version": "2.7.11"
  }
 },
 "nbformat": 4,
 "nbformat_minor": 2
}
