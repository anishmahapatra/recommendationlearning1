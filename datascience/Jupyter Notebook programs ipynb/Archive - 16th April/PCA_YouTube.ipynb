{
 "cells": [
  {
   "cell_type": "code",
   "execution_count": 1,
   "metadata": {},
   "outputs": [],
   "source": [
    "#https://www.youtube.com/watch?v=K796Ae4gLlY"
   ]
  },
  {
   "cell_type": "code",
   "execution_count": 2,
   "metadata": {},
   "outputs": [],
   "source": [
    "#Why do we do dimensionality reduction\n",
    "#reason 1 - space efficiency\n",
    "#reason 2 - computing efficiency\n",
    "#reason 3 - visualization (so we can analyze by human eye)\n",
    "\n",
    "#We will build PCS and then compare it to T-SNE and LDA (3 DR methods in total)"
   ]
  },
  {
   "cell_type": "code",
   "execution_count": 8,
   "metadata": {},
   "outputs": [],
   "source": [
    "import numpy as np #math\n",
    "np.random.seed(1) #for debugging"
   ]
  },
  {
   "cell_type": "code",
   "execution_count": 9,
   "metadata": {},
   "outputs": [
    {
     "name": "stdout",
     "output_type": "stream",
     "text": [
      "[[ 1.62434536 -1.07296862  1.74481176 -0.24937038 -0.3224172  -1.09989127\n",
      "   0.04221375  1.14472371  0.90085595 -0.93576943 -0.69166075 -0.84520564\n",
      "  -1.11731035  0.74204416 -0.74715829 -0.63699565  0.12015895 -0.35224985\n",
      "  -0.20889423  0.93110208]\n",
      " [-0.61175641  0.86540763 -0.7612069   1.46210794 -0.38405435 -0.17242821\n",
      "   0.58281521  0.90159072 -0.68372786 -0.26788808 -0.39675353 -0.67124613\n",
      "   0.2344157  -0.19183555  1.6924546   0.19091548  0.61720311 -1.1425182\n",
      "   0.58662319  0.28558733]\n",
      " [ 0.47182825 -1.3015387   1.3190391  -1.06014071  2.13376944  0.12214158\n",
      "  -0.10061918  1.50249434  0.87710977  1.53035547  0.3128273   0.9873354\n",
      "   2.65980218  0.11237104  1.05080775  3.10025514  1.30017032  0.65065728\n",
      "   1.83898341  1.88514116]]\n"
     ]
    }
   ],
   "source": [
    "#step 1 - Create your dataset\n",
    "\n",
    "mu_vec1 = np.array([0,0,1]) #sample mean\n",
    "cov_mat1 = np.array([[1,0,0],[0,1,0], [0,0,1]]) #sample covariance\n",
    "\n",
    "class1_sample = np.random.multivariate_normal(mu_vec1, cov_mat1, 20).T\n",
    "print class1_sample\n",
    "\n",
    "#What is happening here?\n",
    "#A multi-variate normal distribution was generated; A Gaussian distributon\n",
    "\n",
    "#3x20 matrix; 3 columns and 20 rows"
   ]
  },
  {
   "cell_type": "code",
   "execution_count": 10,
   "metadata": {},
   "outputs": [
    {
     "name": "stdout",
     "output_type": "stream",
     "text": [
      "[[ 0.24560206  0.70190716  2.13162939 -0.39649634  1.16003707 -1.02220122\n",
      "   1.23009474  0.79924193  1.19829972  1.37756379  2.19891788  0.36126959\n",
      "   0.65614632  1.69803203  1.40349164  1.16938243  0.73378149  1.31515939\n",
      "   1.35054598 -0.61577235]\n",
      " [ 2.25286816  1.48851815  2.51981682 -0.44411381  1.87616892  0.69379599\n",
      "   1.76201118  1.18656139  1.11900865  1.12182127  1.18515642  1.42349435\n",
      "   1.04359686  0.55287144  1.59357852  1.74055645  1.03261455  1.84616065\n",
      "  -0.31228341  2.12141771]\n",
      " [ 1.51292982  0.92442829  3.18557541  0.49553414  1.31563495  1.82797464\n",
      "   0.77767186  1.41005165  0.32933771  2.12948391  0.62471505  1.07734007\n",
      "   0.37999916  2.2245077  -0.09491185  0.0462994  -0.37311732  0.14048406\n",
      "   0.96130449  1.40890054]]\n"
     ]
    }
   ],
   "source": [
    "#step 1 - Create your dataset\n",
    "\n",
    "mu_vec2 = np.array([1,1,1]) #sample mean\n",
    "cov_mat2 = np.array([[1,0,0],[0,1,0], [0,0,1]]) #sample covariance\n",
    "\n",
    "class2_sample = np.random.multivariate_normal(mu_vec2, cov_mat2, 20).T\n",
    "print class2_sample\n",
    "\n",
    "#What is happening here?\n",
    "#A multi-variate normal distribution was generated; A Gaussian distributon\n",
    "\n",
    "#3x20 matrix; 3 columns and 20 rows"
   ]
  },
  {
   "cell_type": "code",
   "execution_count": 17,
   "metadata": {},
   "outputs": [
    {
     "name": "stdout",
     "output_type": "stream",
     "text": [
      "Populating the interactive namespace from numpy and matplotlib\n"
     ]
    },
    {
     "ename": "ValueError",
     "evalue": "Unknown projection '3d'",
     "output_type": "error",
     "traceback": [
      "\u001b[0;31m\u001b[0m",
      "\u001b[0;31mValueError\u001b[0mTraceback (most recent call last)",
      "\u001b[0;32m<ipython-input-17-f81442507d65>\u001b[0m in \u001b[0;36m<module>\u001b[0;34m()\u001b[0m\n\u001b[1;32m      8\u001b[0m \u001b[0;31m#3d subplot\u001b[0m\u001b[0;34m\u001b[0m\u001b[0;34m\u001b[0m\u001b[0m\n\u001b[1;32m      9\u001b[0m \u001b[0;31m#these are the subplot grid parameters encoded as a single integer,1x1 grid, 1srt subplot\u001b[0m\u001b[0;34m\u001b[0m\u001b[0;34m\u001b[0m\u001b[0m\n\u001b[0;32m---> 10\u001b[0;31m \u001b[0max\u001b[0m \u001b[0;34m=\u001b[0m \u001b[0mfig\u001b[0m\u001b[0;34m.\u001b[0m\u001b[0madd_subplot\u001b[0m\u001b[0;34m(\u001b[0m\u001b[0;36m111\u001b[0m\u001b[0;34m,\u001b[0m \u001b[0mprojection\u001b[0m\u001b[0;34m=\u001b[0m\u001b[0;34m'3d'\u001b[0m\u001b[0;34m)\u001b[0m\u001b[0;34m\u001b[0m\u001b[0m\n\u001b[0m\u001b[1;32m     11\u001b[0m \u001b[0;31m#fontsize\u001b[0m\u001b[0;34m\u001b[0m\u001b[0;34m\u001b[0m\u001b[0m\n\u001b[1;32m     12\u001b[0m \u001b[0mplt\u001b[0m\u001b[0;34m.\u001b[0m\u001b[0mrcParams\u001b[0m\u001b[0;34m[\u001b[0m\u001b[0;34m'legend.fontsize'\u001b[0m\u001b[0;34m]\u001b[0m \u001b[0;34m=\u001b[0m \u001b[0;36m10\u001b[0m\u001b[0;34m\u001b[0m\u001b[0m\n",
      "\u001b[0;32mE:\\CrewKarma\\servers\\pythonenv\\lib\\site-packages\\matplotlib\\figure.pyc\u001b[0m in \u001b[0;36madd_subplot\u001b[0;34m(self, *args, **kwargs)\u001b[0m\n\u001b[1;32m   1001\u001b[0m         \u001b[0;32melse\u001b[0m\u001b[0;34m:\u001b[0m\u001b[0;34m\u001b[0m\u001b[0m\n\u001b[1;32m   1002\u001b[0m             projection_class, kwargs, key = process_projection_requirements(\n\u001b[0;32m-> 1003\u001b[0;31m                 self, *args, **kwargs)\n\u001b[0m\u001b[1;32m   1004\u001b[0m \u001b[0;34m\u001b[0m\u001b[0m\n\u001b[1;32m   1005\u001b[0m             \u001b[0;31m# try to find the axes with this key in the stack\u001b[0m\u001b[0;34m\u001b[0m\u001b[0;34m\u001b[0m\u001b[0m\n",
      "\u001b[0;32mE:\\CrewKarma\\servers\\pythonenv\\lib\\site-packages\\matplotlib\\projections\\__init__.pyc\u001b[0m in \u001b[0;36mprocess_projection_requirements\u001b[0;34m(figure, *args, **kwargs)\u001b[0m\n\u001b[1;32m     96\u001b[0m \u001b[0;34m\u001b[0m\u001b[0m\n\u001b[1;32m     97\u001b[0m     \u001b[0;32mif\u001b[0m \u001b[0misinstance\u001b[0m\u001b[0;34m(\u001b[0m\u001b[0mprojection\u001b[0m\u001b[0;34m,\u001b[0m \u001b[0msix\u001b[0m\u001b[0;34m.\u001b[0m\u001b[0mstring_types\u001b[0m\u001b[0;34m)\u001b[0m \u001b[0;32mor\u001b[0m \u001b[0mprojection\u001b[0m \u001b[0;32mis\u001b[0m \u001b[0mNone\u001b[0m\u001b[0;34m:\u001b[0m\u001b[0;34m\u001b[0m\u001b[0m\n\u001b[0;32m---> 98\u001b[0;31m         \u001b[0mprojection_class\u001b[0m \u001b[0;34m=\u001b[0m \u001b[0mget_projection_class\u001b[0m\u001b[0;34m(\u001b[0m\u001b[0mprojection\u001b[0m\u001b[0;34m)\u001b[0m\u001b[0;34m\u001b[0m\u001b[0m\n\u001b[0m\u001b[1;32m     99\u001b[0m     \u001b[0;32melif\u001b[0m \u001b[0mhasattr\u001b[0m\u001b[0;34m(\u001b[0m\u001b[0mprojection\u001b[0m\u001b[0;34m,\u001b[0m \u001b[0;34m'_as_mpl_axes'\u001b[0m\u001b[0;34m)\u001b[0m\u001b[0;34m:\u001b[0m\u001b[0;34m\u001b[0m\u001b[0m\n\u001b[1;32m    100\u001b[0m         \u001b[0mprojection_class\u001b[0m\u001b[0;34m,\u001b[0m \u001b[0mextra_kwargs\u001b[0m \u001b[0;34m=\u001b[0m \u001b[0mprojection\u001b[0m\u001b[0;34m.\u001b[0m\u001b[0m_as_mpl_axes\u001b[0m\u001b[0;34m(\u001b[0m\u001b[0;34m)\u001b[0m\u001b[0;34m\u001b[0m\u001b[0m\n",
      "\u001b[0;32mE:\\CrewKarma\\servers\\pythonenv\\lib\\site-packages\\matplotlib\\projections\\__init__.pyc\u001b[0m in \u001b[0;36mget_projection_class\u001b[0;34m(projection)\u001b[0m\n\u001b[1;32m     65\u001b[0m         \u001b[0;32mreturn\u001b[0m \u001b[0mprojection_registry\u001b[0m\u001b[0;34m.\u001b[0m\u001b[0mget_projection_class\u001b[0m\u001b[0;34m(\u001b[0m\u001b[0mprojection\u001b[0m\u001b[0;34m)\u001b[0m\u001b[0;34m\u001b[0m\u001b[0m\n\u001b[1;32m     66\u001b[0m     \u001b[0;32mexcept\u001b[0m \u001b[0mKeyError\u001b[0m\u001b[0;34m:\u001b[0m\u001b[0;34m\u001b[0m\u001b[0m\n\u001b[0;32m---> 67\u001b[0;31m         \u001b[0;32mraise\u001b[0m \u001b[0mValueError\u001b[0m\u001b[0;34m(\u001b[0m\u001b[0;34m\"Unknown projection '%s'\"\u001b[0m \u001b[0;34m%\u001b[0m \u001b[0mprojection\u001b[0m\u001b[0;34m)\u001b[0m\u001b[0;34m\u001b[0m\u001b[0m\n\u001b[0m\u001b[1;32m     68\u001b[0m \u001b[0;34m\u001b[0m\u001b[0m\n\u001b[1;32m     69\u001b[0m \u001b[0;34m\u001b[0m\u001b[0m\n",
      "\u001b[0;31mValueError\u001b[0m: Unknown projection '3d'"
     ]
    },
    {
     "data": {
      "text/plain": [
       "<matplotlib.figure.Figure at 0x9cb2240>"
      ]
     },
     "metadata": {},
     "output_type": "display_data"
    }
   ],
   "source": [
    "%pylab inline\n",
    "\n",
    "#step - 2 : plot the data\n",
    "from matplotlib import pyplot as plt\n",
    "\n",
    "#figure, width and height\n",
    "fig = plt.figure(figsize=(8,8))\n",
    "#3d subplot\n",
    "#these are the subplot grid parameters encoded as a single integer,1x1 grid, 1srt subplot\n",
    "ax = fig.add_subplot(111, projection='3d')\n",
    "#fontsize\n",
    "plt.rcParams['legend.fontsize'] = 10\n",
    "\n",
    "#plot samples\n",
    "ax.plot(class1_sample[0,:], class1_sample[1,:], class1_sample[2,:],\n",
    "        'o', markersize=8, color='blue', alpha=0.5, label='class1')\n",
    "ax.plot(class2_sample[0,:], class2_sample[1,:], class2_sample[2,:],\n",
    "        '^', markersize=8, alpha=0.5, color='green', label='class2')\n",
    "\n",
    "ax.legend(loc = 'upper right')\n",
    "\n",
    "plt.show()"
   ]
  },
  {
   "cell_type": "code",
   "execution_count": null,
   "metadata": {},
   "outputs": [],
   "source": [
    "#Step 3 - Merge the data into one bigASS dataset"
   ]
  },
  {
   "cell_type": "code",
   "execution_count": 19,
   "metadata": {},
   "outputs": [],
   "source": [
    "all_sample = np.concatenate((class1_sample, class2_sample), axis=1)"
   ]
  },
  {
   "cell_type": "code",
   "execution_count": 20,
   "metadata": {},
   "outputs": [
    {
     "data": {
      "text/plain": [
       "array([[ 1.62434536, -1.07296862,  1.74481176, -0.24937038, -0.3224172 ,\n",
       "        -1.09989127,  0.04221375,  1.14472371,  0.90085595, -0.93576943,\n",
       "        -0.69166075, -0.84520564, -1.11731035,  0.74204416, -0.74715829,\n",
       "        -0.63699565,  0.12015895, -0.35224985, -0.20889423,  0.93110208,\n",
       "         0.24560206,  0.70190716,  2.13162939, -0.39649634,  1.16003707,\n",
       "        -1.02220122,  1.23009474,  0.79924193,  1.19829972,  1.37756379,\n",
       "         2.19891788,  0.36126959,  0.65614632,  1.69803203,  1.40349164,\n",
       "         1.16938243,  0.73378149,  1.31515939,  1.35054598, -0.61577235],\n",
       "       [-0.61175641,  0.86540763, -0.7612069 ,  1.46210794, -0.38405435,\n",
       "        -0.17242821,  0.58281521,  0.90159072, -0.68372786, -0.26788808,\n",
       "        -0.39675353, -0.67124613,  0.2344157 , -0.19183555,  1.6924546 ,\n",
       "         0.19091548,  0.61720311, -1.1425182 ,  0.58662319,  0.28558733,\n",
       "         2.25286816,  1.48851815,  2.51981682, -0.44411381,  1.87616892,\n",
       "         0.69379599,  1.76201118,  1.18656139,  1.11900865,  1.12182127,\n",
       "         1.18515642,  1.42349435,  1.04359686,  0.55287144,  1.59357852,\n",
       "         1.74055645,  1.03261455,  1.84616065, -0.31228341,  2.12141771],\n",
       "       [ 0.47182825, -1.3015387 ,  1.3190391 , -1.06014071,  2.13376944,\n",
       "         0.12214158, -0.10061918,  1.50249434,  0.87710977,  1.53035547,\n",
       "         0.3128273 ,  0.9873354 ,  2.65980218,  0.11237104,  1.05080775,\n",
       "         3.10025514,  1.30017032,  0.65065728,  1.83898341,  1.88514116,\n",
       "         1.51292982,  0.92442829,  3.18557541,  0.49553414,  1.31563495,\n",
       "         1.82797464,  0.77767186,  1.41005165,  0.32933771,  2.12948391,\n",
       "         0.62471505,  1.07734007,  0.37999916,  2.2245077 , -0.09491185,\n",
       "         0.0462994 , -0.37311732,  0.14048406,  0.96130449,  1.40890054]])"
      ]
     },
     "execution_count": 20,
     "metadata": {},
     "output_type": "execute_result"
    }
   ],
   "source": [
    "all_sample"
   ]
  },
  {
   "cell_type": "code",
   "execution_count": 22,
   "metadata": {},
   "outputs": [
    {
     "data": {
      "text/plain": [
       "array([[ 1.62434536, -0.61175641,  0.47182825],\n",
       "       [-1.07296862,  0.86540763, -1.3015387 ],\n",
       "       [ 1.74481176, -0.7612069 ,  1.3190391 ],\n",
       "       [-0.24937038,  1.46210794, -1.06014071],\n",
       "       [-0.3224172 , -0.38405435,  2.13376944],\n",
       "       [-1.09989127, -0.17242821,  0.12214158],\n",
       "       [ 0.04221375,  0.58281521, -0.10061918],\n",
       "       [ 1.14472371,  0.90159072,  1.50249434],\n",
       "       [ 0.90085595, -0.68372786,  0.87710977],\n",
       "       [-0.93576943, -0.26788808,  1.53035547],\n",
       "       [-0.69166075, -0.39675353,  0.3128273 ],\n",
       "       [-0.84520564, -0.67124613,  0.9873354 ],\n",
       "       [-1.11731035,  0.2344157 ,  2.65980218],\n",
       "       [ 0.74204416, -0.19183555,  0.11237104],\n",
       "       [-0.74715829,  1.6924546 ,  1.05080775],\n",
       "       [-0.63699565,  0.19091548,  3.10025514],\n",
       "       [ 0.12015895,  0.61720311,  1.30017032],\n",
       "       [-0.35224985, -1.1425182 ,  0.65065728],\n",
       "       [-0.20889423,  0.58662319,  1.83898341],\n",
       "       [ 0.93110208,  0.28558733,  1.88514116],\n",
       "       [ 0.24560206,  2.25286816,  1.51292982],\n",
       "       [ 0.70190716,  1.48851815,  0.92442829],\n",
       "       [ 2.13162939,  2.51981682,  3.18557541],\n",
       "       [-0.39649634, -0.44411381,  0.49553414],\n",
       "       [ 1.16003707,  1.87616892,  1.31563495],\n",
       "       [-1.02220122,  0.69379599,  1.82797464],\n",
       "       [ 1.23009474,  1.76201118,  0.77767186],\n",
       "       [ 0.79924193,  1.18656139,  1.41005165],\n",
       "       [ 1.19829972,  1.11900865,  0.32933771],\n",
       "       [ 1.37756379,  1.12182127,  2.12948391],\n",
       "       [ 2.19891788,  1.18515642,  0.62471505],\n",
       "       [ 0.36126959,  1.42349435,  1.07734007],\n",
       "       [ 0.65614632,  1.04359686,  0.37999916],\n",
       "       [ 1.69803203,  0.55287144,  2.2245077 ],\n",
       "       [ 1.40349164,  1.59357852, -0.09491185],\n",
       "       [ 1.16938243,  1.74055645,  0.0462994 ],\n",
       "       [ 0.73378149,  1.03261455, -0.37311732],\n",
       "       [ 1.31515939,  1.84616065,  0.14048406],\n",
       "       [ 1.35054598, -0.31228341,  0.96130449],\n",
       "       [-0.61577235,  2.12141771,  1.40890054]])"
      ]
     },
     "execution_count": 22,
     "metadata": {},
     "output_type": "execute_result"
    }
   ],
   "source": [
    "all_sample.T"
   ]
  },
  {
   "cell_type": "code",
   "execution_count": null,
   "metadata": {},
   "outputs": [],
   "source": [
    "#Step 4 - compute the dimensional mean vector, it will help compute the covariance matrix\n",
    "#mean for each feature"
   ]
  },
  {
   "cell_type": "code",
   "execution_count": 44,
   "metadata": {},
   "outputs": [
    {
     "name": "stdout",
     "output_type": "stream",
     "text": [
      "[[ 0.41667492]\n",
      " [ 0.69848315]\n",
      " [ 0.99242335]]\n"
     ]
    }
   ],
   "source": [
    "mean_x = np.mean(all_sample[0,:])\n",
    "mean_y = np.mean(all_sample[1,:])\n",
    "mean_z = np.mean(all_sample[2,:])\n",
    "\n",
    "#3d mean vector\n",
    "mean_vector = np.array(([mean_x], [mean_y], [mean_z]))\n",
    "print mean_vector"
   ]
  },
  {
   "cell_type": "code",
   "execution_count": 47,
   "metadata": {},
   "outputs": [
    {
     "ename": "SyntaxError",
     "evalue": "invalid syntax (<ipython-input-47-31269ff9a6a6>, line 6)",
     "output_type": "error",
     "traceback": [
      "\u001b[0;36m  File \u001b[0;32m\"<ipython-input-47-31269ff9a6a6>\"\u001b[0;36m, line \u001b[0;32m6\u001b[0m\n\u001b[0;31m    print('Covariance Matrix:\\n', cov_mat)\u001b[0m\n\u001b[0m        ^\u001b[0m\n\u001b[0;31mSyntaxError\u001b[0m\u001b[0;31m:\u001b[0m invalid syntax\n"
     ]
    }
   ],
   "source": [
    "#Step5 - Compute covariance matrix\n",
    "cov_mat = np.zeros((3,3))\n",
    "\n",
    "for i in range((all_samples.shape[1])):\n",
    "    cov_mat += (all_samples[:,i].reshape(3,1) - mean_vector).dot((all_samples[:,i].reshape(3,1)\n",
    "print('Covariance Matrix:\\n', cov_mat)"
   ]
  }
 ],
 "metadata": {
  "kernelspec": {
   "display_name": "Python 2",
   "language": "python",
   "name": "python2"
  },
  "language_info": {
   "codemirror_mode": {
    "name": "ipython",
    "version": 2
   },
   "file_extension": ".py",
   "mimetype": "text/x-python",
   "name": "python",
   "nbconvert_exporter": "python",
   "pygments_lexer": "ipython2",
   "version": "2.7.11"
  }
 },
 "nbformat": 4,
 "nbformat_minor": 2
}
